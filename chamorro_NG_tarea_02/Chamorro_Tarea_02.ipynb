{
  "nbformat": 4,
  "nbformat_minor": 0,
  "metadata": {
    "colab": {
      "provenance": [],
      "collapsed_sections": [
        "9iC0g-OpsnuM",
        "PZGRowyUv-Pt"
      ],
      "toc_visible": true
    },
    "kernelspec": {
      "name": "python3",
      "display_name": "Python 3"
    },
    "language_info": {
      "name": "python"
    }
  },
  "cells": [
    {
      "cell_type": "markdown",
      "source": [
        "# Problema 1, print -100 - 200\n",
        "\n"
      ],
      "metadata": {
        "id": "9iC0g-OpsnuM"
      }
    },
    {
      "cell_type": "code",
      "source": [
        "for x in range (-100, 201):\n",
        "  print (x)"
      ],
      "metadata": {
        "colab": {
          "base_uri": "https://localhost:8080/"
        },
        "collapsed": true,
        "id": "dHjhKosNvs83",
        "outputId": "b3b0f9ad-759a-4173-cab5-70ae9d38efe5"
      },
      "execution_count": 10,
      "outputs": [
        {
          "output_type": "stream",
          "name": "stdout",
          "text": [
            "-100\n",
            "-99\n",
            "-98\n",
            "-97\n",
            "-96\n",
            "-95\n",
            "-94\n",
            "-93\n",
            "-92\n",
            "-91\n",
            "-90\n",
            "-89\n",
            "-88\n",
            "-87\n",
            "-86\n",
            "-85\n",
            "-84\n",
            "-83\n",
            "-82\n",
            "-81\n",
            "-80\n",
            "-79\n",
            "-78\n",
            "-77\n",
            "-76\n",
            "-75\n",
            "-74\n",
            "-73\n",
            "-72\n",
            "-71\n",
            "-70\n",
            "-69\n",
            "-68\n",
            "-67\n",
            "-66\n",
            "-65\n",
            "-64\n",
            "-63\n",
            "-62\n",
            "-61\n",
            "-60\n",
            "-59\n",
            "-58\n",
            "-57\n",
            "-56\n",
            "-55\n",
            "-54\n",
            "-53\n",
            "-52\n",
            "-51\n",
            "-50\n",
            "-49\n",
            "-48\n",
            "-47\n",
            "-46\n",
            "-45\n",
            "-44\n",
            "-43\n",
            "-42\n",
            "-41\n",
            "-40\n",
            "-39\n",
            "-38\n",
            "-37\n",
            "-36\n",
            "-35\n",
            "-34\n",
            "-33\n",
            "-32\n",
            "-31\n",
            "-30\n",
            "-29\n",
            "-28\n",
            "-27\n",
            "-26\n",
            "-25\n",
            "-24\n",
            "-23\n",
            "-22\n",
            "-21\n",
            "-20\n",
            "-19\n",
            "-18\n",
            "-17\n",
            "-16\n",
            "-15\n",
            "-14\n",
            "-13\n",
            "-12\n",
            "-11\n",
            "-10\n",
            "-9\n",
            "-8\n",
            "-7\n",
            "-6\n",
            "-5\n",
            "-4\n",
            "-3\n",
            "-2\n",
            "-1\n",
            "0\n",
            "1\n",
            "2\n",
            "3\n",
            "4\n",
            "5\n",
            "6\n",
            "7\n",
            "8\n",
            "9\n",
            "10\n",
            "11\n",
            "12\n",
            "13\n",
            "14\n",
            "15\n",
            "16\n",
            "17\n",
            "18\n",
            "19\n",
            "20\n",
            "21\n",
            "22\n",
            "23\n",
            "24\n",
            "25\n",
            "26\n",
            "27\n",
            "28\n",
            "29\n",
            "30\n",
            "31\n",
            "32\n",
            "33\n",
            "34\n",
            "35\n",
            "36\n",
            "37\n",
            "38\n",
            "39\n",
            "40\n",
            "41\n",
            "42\n",
            "43\n",
            "44\n",
            "45\n",
            "46\n",
            "47\n",
            "48\n",
            "49\n",
            "50\n",
            "51\n",
            "52\n",
            "53\n",
            "54\n",
            "55\n",
            "56\n",
            "57\n",
            "58\n",
            "59\n",
            "60\n",
            "61\n",
            "62\n",
            "63\n",
            "64\n",
            "65\n",
            "66\n",
            "67\n",
            "68\n",
            "69\n",
            "70\n",
            "71\n",
            "72\n",
            "73\n",
            "74\n",
            "75\n",
            "76\n",
            "77\n",
            "78\n",
            "79\n",
            "80\n",
            "81\n",
            "82\n",
            "83\n",
            "84\n",
            "85\n",
            "86\n",
            "87\n",
            "88\n",
            "89\n",
            "90\n",
            "91\n",
            "92\n",
            "93\n",
            "94\n",
            "95\n",
            "96\n",
            "97\n",
            "98\n",
            "99\n",
            "100\n",
            "101\n",
            "102\n",
            "103\n",
            "104\n",
            "105\n",
            "106\n",
            "107\n",
            "108\n",
            "109\n",
            "110\n",
            "111\n",
            "112\n",
            "113\n",
            "114\n",
            "115\n",
            "116\n",
            "117\n",
            "118\n",
            "119\n",
            "120\n",
            "121\n",
            "122\n",
            "123\n",
            "124\n",
            "125\n",
            "126\n",
            "127\n",
            "128\n",
            "129\n",
            "130\n",
            "131\n",
            "132\n",
            "133\n",
            "134\n",
            "135\n",
            "136\n",
            "137\n",
            "138\n",
            "139\n",
            "140\n",
            "141\n",
            "142\n",
            "143\n",
            "144\n",
            "145\n",
            "146\n",
            "147\n",
            "148\n",
            "149\n",
            "150\n",
            "151\n",
            "152\n",
            "153\n",
            "154\n",
            "155\n",
            "156\n",
            "157\n",
            "158\n",
            "159\n",
            "160\n",
            "161\n",
            "162\n",
            "163\n",
            "164\n",
            "165\n",
            "166\n",
            "167\n",
            "168\n",
            "169\n",
            "170\n",
            "171\n",
            "172\n",
            "173\n",
            "174\n",
            "175\n",
            "176\n",
            "177\n",
            "178\n",
            "179\n",
            "180\n",
            "181\n",
            "182\n",
            "183\n",
            "184\n",
            "185\n",
            "186\n",
            "187\n",
            "188\n",
            "189\n",
            "190\n",
            "191\n",
            "192\n",
            "193\n",
            "194\n",
            "195\n",
            "196\n",
            "197\n",
            "198\n",
            "199\n",
            "200\n"
          ]
        }
      ]
    },
    {
      "cell_type": "markdown",
      "source": [
        "# Problema 2, print y dividir"
      ],
      "metadata": {
        "id": "PZGRowyUv-Pt"
      }
    },
    {
      "cell_type": "code",
      "source": [
        "4 % 3"
      ],
      "metadata": {
        "colab": {
          "base_uri": "https://localhost:8080/"
        },
        "id": "d0LxXClywK9_",
        "outputId": "058382ce-0588-4f97-d9f7-5416980f7ea6"
      },
      "execution_count": 11,
      "outputs": [
        {
          "output_type": "execute_result",
          "data": {
            "text/plain": [
              "1"
            ]
          },
          "metadata": {},
          "execution_count": 11
        }
      ]
    },
    {
      "cell_type": "code",
      "source": [
        "for number in range (-100, 201):\n",
        "  if number % 6 == 0:\n",
        "    print (number)"
      ],
      "metadata": {
        "colab": {
          "base_uri": "https://localhost:8080/"
        },
        "collapsed": true,
        "id": "QAKAhQ_lwThg",
        "outputId": "d43f5833-cab9-493d-a773-4b42faae1cd6"
      },
      "execution_count": 13,
      "outputs": [
        {
          "output_type": "stream",
          "name": "stdout",
          "text": [
            "-96\n",
            "-90\n",
            "-84\n",
            "-78\n",
            "-72\n",
            "-66\n",
            "-60\n",
            "-54\n",
            "-48\n",
            "-42\n",
            "-36\n",
            "-30\n",
            "-24\n",
            "-18\n",
            "-12\n",
            "-6\n",
            "0\n",
            "6\n",
            "12\n",
            "18\n",
            "24\n",
            "30\n",
            "36\n",
            "42\n",
            "48\n",
            "54\n",
            "60\n",
            "66\n",
            "72\n",
            "78\n",
            "84\n",
            "90\n",
            "96\n",
            "102\n",
            "108\n",
            "114\n",
            "120\n",
            "126\n",
            "132\n",
            "138\n",
            "144\n",
            "150\n",
            "156\n",
            "162\n",
            "168\n",
            "174\n",
            "180\n",
            "186\n",
            "192\n",
            "198\n"
          ]
        }
      ]
    },
    {
      "cell_type": "markdown",
      "source": [
        "# Problema 3, sumador"
      ],
      "metadata": {
        "id": "mRjuadG4x_lS"
      }
    },
    {
      "cell_type": "code",
      "source": [
        "num1 = float(input(\"Enter the first number: \"))\n",
        "num2 = float(input(\"Enter the second number: \"))\n",
        "\n",
        "sum = num1 + num2\n",
        "\n",
        "print(f\"The sum is: {sum}\")"
      ],
      "metadata": {
        "colab": {
          "base_uri": "https://localhost:8080/"
        },
        "id": "rtGpzVv_yDsn",
        "outputId": "4be91923-e15b-4c1e-c0a4-9d188232fb4e"
      },
      "execution_count": 14,
      "outputs": [
        {
          "output_type": "stream",
          "name": "stdout",
          "text": [
            "Enter the first number: 100\n",
            "Enter the second number: 200\n",
            "The sum is: 300.0\n"
          ]
        }
      ]
    },
    {
      "cell_type": "code",
      "source": [
        "num1 = float(input(\"Ingresar primer número: \"))\n",
        "num2 = float(input(\"Ingresar segundo número: \"))\n",
        "\n",
        "sum = num1 + num2\n",
        "\n",
        "if (250 > sum > 200):\n",
        "  print(f\"La suma es mayor que 200\")"
      ],
      "metadata": {
        "colab": {
          "base_uri": "https://localhost:8080/"
        },
        "id": "tTZMZb85zlL_",
        "outputId": "9338ae93-0ebc-4ca8-c9b2-3fd958faae5e"
      },
      "execution_count": 15,
      "outputs": [
        {
          "output_type": "stream",
          "name": "stdout",
          "text": [
            "Ingresar primer número: 200\n",
            "Ingresar segundo número: 30\n",
            "La suma es mayor que 200\n"
          ]
        }
      ]
    },
    {
      "cell_type": "code",
      "source": [
        "num1 = float(input(\"Ingresar primer número: \"))\n",
        "num2 = float(input(\"Ingresar segundo número: \"))\n",
        "\n",
        "sum = num1 + num2\n",
        "\n",
        "if (250 > sum > 200):\n",
        "  print(f\"La suma es mayor que 200\")\n",
        "if (sum > 250):\n",
        "  print(f\"La suma es mayor que 250\")\n",
        "if (sum < 200):\n",
        "  print(f\"La suma es menor que 200\")\n",
        "if (sum == 200):\n",
        "  print(f\"La suma es 200\")\n",
        "if (sum == 250):\n",
        "  print(f\"La suma es 250\")"
      ],
      "metadata": {
        "colab": {
          "base_uri": "https://localhost:8080/"
        },
        "id": "lSKCxIgd0oQ_",
        "outputId": "af17197c-a4b3-454f-cba1-1e3d94388321"
      },
      "execution_count": 22,
      "outputs": [
        {
          "output_type": "stream",
          "name": "stdout",
          "text": [
            "Ingresar primer número: 200\n",
            "Ingresar segundo número: 50\n",
            "La suma es 250\n"
          ]
        }
      ]
    },
    {
      "cell_type": "code",
      "source": [
        "num1 = float(input(\"Ingresar primer número: \"))\n",
        "num2 = float(input(\"Ingresar segundo número: \"))\n",
        "\n",
        "sum = num1 + num2\n",
        "\n",
        "if (250 > sum > 200):\n",
        "  print(f\"La suma es mayor que 200\")\n",
        "if (sum > 250):\n",
        "  print(f\"La suma es mayor que 250\")\n",
        "if (sum < 200):\n",
        "  print(f\"La suma es menor que 200\")\n",
        "if (sum == 200):\n",
        "  print(f\"La suma es 200\")\n",
        "if (sum == 250):\n",
        "  print(f\"La suma es 250\")"
      ],
      "metadata": {
        "id": "aE0HSAOl2AJ0"
      },
      "execution_count": null,
      "outputs": []
    },
    {
      "cell_type": "markdown",
      "source": [
        "# Problema 4, final\n"
      ],
      "metadata": {
        "id": "swHMLxsmSSEH"
      }
    },
    {
      "cell_type": "code",
      "source": [
        "print(\"¡Hola! Se que te mueres de ganas de ir a Lollapalooza. ¡Acá hay una calculadora para tus necesidades! Por favor introduce los siguientes datos: \")\n",
        "viernes = input(\"¿Te puedes tomar los viernes? (si/no): \")\n",
        "banco = input(\"¿Eres cliente del Banco de Chile? (si/no): \")\n",
        "presupuesto = input(\"¿Cuál es tu presupuesto? (en miles de pesos): \")\n",
        "\n",
        "user_profile = {\n",
        "    \"viernes\": viernes,\n",
        "    \"banco\": banco,\n",
        "    \"presupuesto\": presupuesto\n",
        "}\n",
        "\n",
        "print(user_profile)"
      ],
      "metadata": {
        "colab": {
          "base_uri": "https://localhost:8080/"
        },
        "id": "dv6Az1VoXinm",
        "outputId": "eab68be3-0143-4a8f-a200-552a6ad0ceb5"
      },
      "execution_count": 42,
      "outputs": [
        {
          "output_type": "stream",
          "name": "stdout",
          "text": [
            "¡Hola! Se que te mueres de ganas de ir a Lollapalooza. ¡Acá hay una calculadora para tus necesidades! Por favor introduce los siguientes datos: \n",
            "¿Te puedes tomar los viernes? (si/no): si\n",
            "¿Eres cliente del Banco de Chile? (si/no): no\n",
            "¿Cuál es tu presupuesto? (en miles de pesos): 300\n",
            "{'viernes': 'si', 'banco': 'no', 'presupuesto': '300'}\n"
          ]
        }
      ]
    },
    {
      "cell_type": "code",
      "source": [
        "print(\"¡Hola! Se que te mueres de ganas de ir a Lollapalooza. ¡Acá hay una calculadora para tus necesidades! Por favor introduce los siguientes datos: \")\n",
        "\n",
        "dias = input(\"¿Cuantos días quieres ir? (Entre 1 y 3): \")\n",
        "banco = input(\"¿Eres cliente del Banco de Chile? (si/no): \")\n",
        "presupuesto_str = input(\"¿Cuál es tu presupuesto? (en miles de pesos): \") # Read as string first\n",
        "\n",
        "# Convert presupuesto to a number for comparison, handling potential errors\n",
        "try:\n",
        "    presupuesto = float(presupuesto_str)\n",
        "except ValueError:\n",
        "    presupuesto = 0 # Set to 0 or handle the error as appropriate\n",
        "    print(\"Entrada de presupuesto no válida. Por favor ingresa un número.\")\n",
        "\n",
        "\n",
        "if dias.lower() == \"3\" and banco.lower() == \"si\" and presupuesto >= 318.0:\n",
        "  print(\"En este momento, no quedan entradas beneficiosas para clientes del Banco de Chile. Por ende, tu mejor opción es comprar un pase general de 3 días por $318.000\")\n",
        "elif dias.lower() == \"3\" and banco.lower() == \"si\" and presupuesto <= 261.3:\n",
        "  print(\"Lo lamento, se que Lollapalooza esta muy caro, por lo que tu presupuesto debe ser mayor a $261.300, o puedes cotizar para ir tan solo un día, ya que el precio para ir a dos es igual a que si fueras por tres.\")\n",
        "if dias.lower() == \"3\" and banco.lower() == \"no\" and presupuesto >= 318.1:\n",
        "  print(\"¡Perfecto! Puedes comprar un pase de tres días por $318.100\")\n",
        "elif dias.lower() == \"3\" and banco.lower() == \"no\" and presupuesto <= 318.1:\n",
        "  print(\"Lo lamento, se que Lollapalooza esta muy caro, por lo que tu presupuesto debe ser mayor a $261.300, o puedes cotizar para ir tan solo un día, ya que el precio para ir a dos es igual a que si fueras por tres.\")\n",
        "\n",
        "\n",
        "if dias.lower() == \"1\" and banco.lower() == \"si\" and presupuesto >= 162.0:\n",
        "    print(\"¡Perfecto! Puedes comprar un pase de un día por $162.000\")\n",
        "elif dias.lower() == \"1\" and banco.lower() == \"si\" and presupuesto <= 162.0:\n",
        "    print(\"Lo lamento, se que Lollapalooza esta muy caro, por lo que tu presupuesto debe ser mayor a $162.000\")\n",
        "if dias.lower() == \"1\" and banco.lower() == \"no\" and presupuesto >= 164.7:\n",
        "    print(\"¡Perfecto! Puedes comprar un pase de un día por $164.700\")\n",
        "elif dias.lower() == \"1\" and banco.lower() == \"no\" and presupuesto <= 164.7:\n",
        "    print(\"Lo lamento, se que Lollapalooza esta muy caro, por lo que tu presupuesto debe ser mayor a $164.700\")\n",
        "\n",
        "if dias.lower() == \"2\" and banco.lower() == \"si\" and presupuesto >= 318.1:\n",
        "  print(\"En este caso, es más económico comprar un pase general que dos individuales. Por ahora, no quedan entradas beneficiosas para clientes del Banco de Chile. Por ende, tu mejor opción es comprar un pase general de 3 días por $318.000\")\n",
        "elif dias.lower() == \"2\" and banco.lower() == \"si\" and presupuesto <= 318.1:\n",
        "  print(\"Lo lamento, se que Lollapalooza esta muy caro, por lo que tu presupuesto debe ser mayor a $318.000, o puedes cotizar para ir tan solo un día, ya que el precio para ir a dos es igual a que si fueras por tres.\")\n",
        "if dias.lower() == \"2\" and banco.lower() == \"no\" and presupuesto >= 318.1:\n",
        "  print(\"¡Perfecto! De hecho, te conviene comprar un pase de tres días por $318.100, a dos pases de un día por $164.700 cada uno.\")\n",
        "elif dias.lower() == \"2\" and banco.lower() == \"no\" and presupuesto <= 318.1:\n",
        "  print(\"Lo lamento, se que Lollapalooza esta muy caro, por lo que tu presupuesto debe ser mayor a $318.000, o puedes cotizar para ir tan solo un día, ya que el precio para ir a dos es igual a que si fueras por tres.\")\n",
        "\n",
        "\n",
        "user_profile = {\n",
        "    \"dias\": dias.lower(),\n",
        "    \"banco\": banco.lower(),\n",
        "    \"presupuesto\": presupuesto_str # Store the original string input\n",
        "}"
      ],
      "metadata": {
        "colab": {
          "base_uri": "https://localhost:8080/"
        },
        "outputId": "c37f9a73-bef4-4218-fcb2-52b64051bb7f",
        "id": "4fBsYWB4hxUM"
      },
      "execution_count": 55,
      "outputs": [
        {
          "output_type": "stream",
          "name": "stdout",
          "text": [
            "¡Hola! Se que te mueres de ganas de ir a Lollapalooza. ¡Acá hay una calculadora para tus necesidades! Por favor introduce los siguientes datos: \n",
            "¿Cuantos días quieres ir? (Entre 1 y 3): 3\n",
            "¿Eres cliente del Banco de Chile? (si/no): si\n",
            "¿Cuál es tu presupuesto? (en miles de pesos): 200\n",
            "Lo lamento, se que Lollapalooza esta muy caro, por lo que tu presupuesto debe ser mayor a $261.300, o puedes cotizar para ir tan solo un día, ya que el precio para ir a dos es igual a que si fueras por tres.\n"
          ]
        }
      ]
    }
  ]
}